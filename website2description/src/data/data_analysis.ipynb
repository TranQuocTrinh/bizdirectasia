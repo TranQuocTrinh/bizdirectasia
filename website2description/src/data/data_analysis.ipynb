{
 "cells": [
  {
   "cell_type": "code",
   "execution_count": 1,
   "metadata": {},
   "outputs": [
    {
     "data": {
      "text/html": [
       "<div>\n",
       "<style scoped>\n",
       "    .dataframe tbody tr th:only-of-type {\n",
       "        vertical-align: middle;\n",
       "    }\n",
       "\n",
       "    .dataframe tbody tr th {\n",
       "        vertical-align: top;\n",
       "    }\n",
       "\n",
       "    .dataframe thead th {\n",
       "        text-align: right;\n",
       "    }\n",
       "</style>\n",
       "<table border=\"1\" class=\"dataframe\">\n",
       "  <thead>\n",
       "    <tr style=\"text-align: right;\">\n",
       "      <th></th>\n",
       "      <th>website</th>\n",
       "      <th>content</th>\n",
       "      <th>description</th>\n",
       "    </tr>\n",
       "  </thead>\n",
       "  <tbody>\n",
       "    <tr>\n",
       "      <th>0</th>\n",
       "      <td>https://indiaproperty.com</td>\n",
       "      <td>Find real estate property in India for Buy/Sel...</td>\n",
       "      <td>IndiaProperty.com provides in-depth informatio...</td>\n",
       "    </tr>\n",
       "    <tr>\n",
       "      <th>1</th>\n",
       "      <td>https://avaligntech.com</td>\n",
       "      <td>Our premium implants and instruments for ortho...</td>\n",
       "      <td>Provider of outsourced services to medical dev...</td>\n",
       "    </tr>\n",
       "    <tr>\n",
       "      <th>2</th>\n",
       "      <td>https://blueconstruction.com</td>\n",
       "      <td>Blue &amp; Associates, Inc. has been recognized as...</td>\n",
       "      <td>Blue &amp; Associates constructs restaurants, medi...</td>\n",
       "    </tr>\n",
       "    <tr>\n",
       "      <th>3</th>\n",
       "      <td>https://digiowner.com</td>\n",
       "      <td>...</td>\n",
       "      <td>DigiOwner is a commercial and residential prop...</td>\n",
       "    </tr>\n",
       "    <tr>\n",
       "      <th>4</th>\n",
       "      <td>https://smiths.com</td>\n",
       "      <td>We’re proud of our 170 year history of being p...</td>\n",
       "      <td>Smiths Group is a British multinational divers...</td>\n",
       "    </tr>\n",
       "  </tbody>\n",
       "</table>\n",
       "</div>"
      ],
      "text/plain": [
       "                        website  \\\n",
       "0     https://indiaproperty.com   \n",
       "1       https://avaligntech.com   \n",
       "2  https://blueconstruction.com   \n",
       "3         https://digiowner.com   \n",
       "4            https://smiths.com   \n",
       "\n",
       "                                             content  \\\n",
       "0  Find real estate property in India for Buy/Sel...   \n",
       "1  Our premium implants and instruments for ortho...   \n",
       "2  Blue & Associates, Inc. has been recognized as...   \n",
       "3                                                ...   \n",
       "4  We’re proud of our 170 year history of being p...   \n",
       "\n",
       "                                         description  \n",
       "0  IndiaProperty.com provides in-depth informatio...  \n",
       "1  Provider of outsourced services to medical dev...  \n",
       "2  Blue & Associates constructs restaurants, medi...  \n",
       "3  DigiOwner is a commercial and residential prop...  \n",
       "4  Smiths Group is a British multinational divers...  "
      ]
     },
     "execution_count": 1,
     "metadata": {},
     "output_type": "execute_result"
    }
   ],
   "source": [
    "import pandas as pd\n",
    "from tqdm import tqdm\n",
    "\n",
    "train_df, val_df, test_df = pd.read_csv(\"train.csv\"), pd.read_csv(\"val.csv\"), pd.read_csv(\"test.csv\")\n",
    "train_df[[\"website\", \"content\", \"description\"]].head()"
   ]
  },
  {
   "cell_type": "code",
   "execution_count": 2,
   "metadata": {},
   "outputs": [],
   "source": [
    "import nltk\n",
    "from transformers.utils import is_offline_mode\n",
    "from filelock import FileLock\n",
    "import re\n",
    "from nltk.stem import WordNetLemmatizer\n",
    "from nltk.tokenize import word_tokenize\n",
    "from bs4 import BeautifulSoup\n",
    "\n",
    "try:\n",
    "    nltk.data.find(\"tokenizers/punkt\")\n",
    "except (LookupError, OSError):\n",
    "    if is_offline_mode():\n",
    "        raise LookupError(\n",
    "            \"Offline mode: run this script without TRANSFORMERS_OFFLINE first to download nltk data files\"\n",
    "        )\n",
    "    with FileLock(\".lock\") as lock:\n",
    "        nltk.download(\"punkt\", quiet=True)\n",
    "        \n",
    "def preprocess_text(text):\n",
    "    def clean_html(html):\n",
    "        soup = BeautifulSoup(html, \"html.parser\")\n",
    "        for data in soup(['style', 'script', 'code', 'a']):\n",
    "            data.decompose()\n",
    "        return ' '.join(soup.stripped_strings)\n",
    "\n",
    "    processed_text = str(text).strip()\n",
    "    # clean html\n",
    "    processed_text = clean_html(processed_text)\n",
    "    # remove text between { and }\n",
    "    processed_text = re.sub(r\"\\{.*?\\}\", \"\", processed_text)\n",
    "    # remove text between [ and ]\n",
    "    processed_text = re.sub(r\"\\[.*?\\]\", \"\", processed_text)\n",
    "    # remove repeated punctuation\n",
    "    def remove_repeated_punctuation(text):\n",
    "        return re.sub(r\"([,!?!\\\"#$%&\\'\\(\\)*+,-./:;<=>?@\\[\\\\\\]^_`\\{|\\}~])\\1+\", r\"\\1\", text)\n",
    "    \n",
    "    # tokenize\n",
    "    processed_text = word_tokenize(processed_text)\n",
    "    processed_text = ' '.join(processed_text)\n",
    "    # remove non-ascii characters\n",
    "    processed_text = re.sub(r'[^\\x00-\\x7F]+', ' ', processed_text)\n",
    "    # remove duplicate punctuation\n",
    "    processed_text = re.sub(r'([!?,.()])\\1+', r'\\1', processed_text)\n",
    "    # remove spaces before punctuation\n",
    "    processed_text = re.sub(r'\\s+([!?,.()])', r'\\1', processed_text)\n",
    "    # remove spaces\n",
    "    processed_text = \" \".join(processed_text.split())\n",
    "    # remove all single characters\n",
    "    processed_text = re.sub(r'\\s+[a-zA-Z]\\s+', ' ', processed_text)\n",
    "    # Remove single characters from the start\n",
    "    processed_text = re.sub(r'\\^[a-zA-Z]\\s+', ' ', processed_text)\n",
    "    # Substituting multiple spaces with single space\n",
    "    processed_text = re.sub(r'\\s+', ' ', processed_text)\n",
    "    # Removing prefixed 'b'\n",
    "    processed_text = re.sub(r'^b\\s+', '', processed_text)\n",
    "    # Lemmatization\n",
    "    processed_text = processed_text.split()\n",
    "    lemmatizer = WordNetLemmatizer()\n",
    "    processed_text = [lemmatizer.lemmatize(word) for word in processed_text]\n",
    "    processed_text = ' '.join(processed_text)\n",
    "    processed_text = remove_repeated_punctuation(processed_text)\n",
    "    processed_text = \" \".join(processed_text.split())\n",
    "\n",
    "    return processed_text"
   ]
  },
  {
   "cell_type": "code",
   "execution_count": 11,
   "metadata": {},
   "outputs": [],
   "source": [
    "def print_idx(df, idx):\n",
    "    print(\"------ Website:\", df.iloc[idx][\"website\"])\n",
    "    print(\"------ Content:\", df.iloc[idx][\"content\"])\n",
    "    print(\"------ Description:\", df.iloc[idx][\"description\"])"
   ]
  },
  {
   "cell_type": "code",
   "execution_count": 4,
   "metadata": {},
   "outputs": [],
   "source": [
    "def num_words_description_contained_content(description, content):\n",
    "    description = set(description.split())\n",
    "    content = set(content.split())\n",
    "    return len(description & content)"
   ]
  },
  {
   "cell_type": "code",
   "execution_count": 23,
   "metadata": {},
   "outputs": [],
   "source": [
    "def process_csv_data(df):\n",
    "    df[\"content\"] = [preprocess_text(x) for x in tqdm(df[\"content\"].values, desc=\"Process content...\")]\n",
    "    df[\"num_words_des\"] = df[\"description\"].apply(lambda x: len(set(x.split())))\n",
    "    df[\"num_words_content\"] = df[\"content\"].apply(lambda x: len(set(x.split())))\n",
    "    df[\"num_words_des_contained_content\"] = df.apply(lambda x: num_words_description_contained_content(x[\"description\"], x[\"content\"]), axis=1)\n",
    "    df = df[df[\"num_words_des\"] < 100]\n",
    "    df = df[df[\"num_words_des\"] > 5]\n",
    "    df[\"ratio\"] = df[\"num_words_des_contained_content\"] / df[\"num_words_des\"]\n",
    "    df = df[df[\"ratio\"] >= 0.45]\n",
    "    df = df[df[\"num_words_content\"] > df[\"num_words_des\"]]\n",
    "    df = df.reset_index(drop=True)\n",
    "    return df"
   ]
  },
  {
   "cell_type": "code",
   "execution_count": 6,
   "metadata": {},
   "outputs": [
    {
     "name": "stderr",
     "output_type": "stream",
     "text": [
      "  0%|          | 0/107982 [00:00<?, ?it/s]"
     ]
    },
    {
     "name": "stdout",
     "output_type": "stream",
     "text": [
      "Process content...\n"
     ]
    },
    {
     "name": "stderr",
     "output_type": "stream",
     "text": [
      "100%|██████████| 107982/107982 [12:01<00:00, 149.60it/s]\n"
     ]
    },
    {
     "name": "stdout",
     "output_type": "stream",
     "text": [
      "Process count number words...\n"
     ]
    }
   ],
   "source": [
    "df = process_csv_data(train_df)"
   ]
  },
  {
   "cell_type": "code",
   "execution_count": 19,
   "metadata": {},
   "outputs": [
    {
     "data": {
      "image/png": "[encoded data removed]",
      "text/plain": [
       "<Figure size 500x500 with 1 Axes>"
      ]
     },
     "metadata": {},
     "output_type": "display_data"
    }
   ],
   "source": [
    "import matplotlib.pyplot as plt\n",
    "plt.figure(figsize=(5, 5))\n",
    "df[df[\"ratio\"] >= 0.45].num_words_content.plot.hist(bins=100)\n",
    "plt.show()"
   ]
  },
  {
   "cell_type": "code",
   "execution_count": 22,
   "metadata": {},
   "outputs": [
    {
     "data": {
      "text/plain": [
       "(53148, 13)"
      ]
     },
     "execution_count": 22,
     "metadata": {},
     "output_type": "execute_result"
    }
   ],
   "source": [
    "df[df[\"ratio\"] >= 0.45].shape"
   ]
  },
  {
   "cell_type": "code",
   "execution_count": 21,
   "metadata": {},
   "outputs": [
    {
     "name": "stdout",
     "output_type": "stream",
     "text": [
      "------ Website: https://newporthospital.org\n",
      "------ Content: Newport Hospital Community Lecture Series Registration Providing award-winning health care to patient on Aquidneck Island and beyond Founded in 1873 a 12-bed cottage hospital, Newport Hospital is state-of-the-art, award-winning health care facility that offer wide array of service to the community. In addition to an emergency department that treat patient from Newport and surrounding towns, the hospital provides diagnostic and surgical service and is home to the renowned Vanderbilt Rehabilitation Center and the award-winning Noreen Stonor Drexel Birthing Center. Visiting hour and guideline About Newport Hospital Our center and service Newport Hospital ha continuously maintained Magnet status since 2004. The Magnet designation from the American Nurses Credentialing Center( ANCC) is considered the gold standard for nursing excellence. Of more than 5,000 hospital in the United States, only about 4 percent meet Magnet rigorous standard for best practice in nursing. When you have medical emergency, you want immediate professional care. Newport Hospital newly renovated John A. and Hope H. van Beuren Emergency Department is open and staffed 24 hour day, every day of the year, so we 're here whenever you need us. For more than 40 years, Vanderbilt Rehabilitation Center at Newport Hospital ha offered exceptional service to patient who require intensive inpatient rehabilitation care. Vanderbilt wa renovated and expanded in 2021 and is now the exclusive inpatient rehabilitation location for all of Lifespan. Search over 1200 provider in our network through the Doctor search. Sign in to your personal Lifespan account to find all your secure personal records. Make an appointment with Lifespan Urgent Care today. We re always exploring new way to Deliver health with care by adding new services, renovating and expanding our facilities, and recruiting talented providers. Offering hundred of specialized program for our patient Our affiliated primary care practices, part of the Lifespan Physician Group, welcome new patient and offer convenient extended hours. Internal medicine physician see patient 18 and older ; family medicine physician see patient of all ages, from infant to seniors. Our team of obstetrician/gynecologists and certified nurse midwife provide service to woman of all ages, from wellness visits, through pregnancy and childbirth, to gynecologic surgery. Our renowned Noreen Stonor Drexel Birthing Center offer home-like environment supported by state-of-the-art technology. The Newport branch of the Lifespan Cancer Institute provides state-of-the-art care for patient with cancer and hematologic disorders. We offer broad range of clinical services, including medical oncology, surgical services, and infusion therapy for cancer and non-cancerous conditions, including chemotherapy. Located throughout the Newport County, with some of our most popular location here. Noreen Stonor Drexel Birthing Center, Newport Hospital Vanderbilt Rehabilitation Center Outpatient, Newport Hospital Get Directions More about Newport Hospital Emergency Care Every day we treat hundred of patient who rely on Newport Hospital for the very best care available. And every day, we rely on support from caring people like you to help ensure our vital work continues. Support from our community is the cornerstone of everything we do. Every gift, no matter the size, make an important difference. Your generosity today is an investment in quality patient care on Aquidneck Island tomorrow. Please join us! Our nurse have profound impact on our patients, their families, and the community. Lifespan, Rhode Island 's first health system, wa founded in 1994 by Rhode Island Hospital and the Miriam Hospital. comprehensive, integrated, academic health system with The Warren Alpert Medical School of Brown University, Lifespan 's present partner also include Rhode Island Hospital 's pediatric division, Hasbro Children 's Hospital ; Bradley Hospital ; Newport Hospital ; Gateway Healthcare ; Lifespan Physician Group ; and Coastal Medical.\n",
      "------ Description: Newport Hospital is a healthcare facility located in Rhode Island.\n"
     ]
    }
   ],
   "source": [
    "print_idx(df, 10)"
   ]
  },
  {
   "cell_type": "code",
   "execution_count": 24,
   "metadata": {},
   "outputs": [
    {
     "name": "stderr",
     "output_type": "stream",
     "text": [
      "Process content...: 100%|██████████| 5000/5000 [00:34<00:00, 143.94it/s]\n"
     ]
    }
   ],
   "source": [
    "tdf = process_csv_data(test_df)\n",
    "tdf.shape"
   ]
  },
  {
   "cell_type": "code",
   "execution_count": 27,
   "metadata": {},
   "outputs": [
    {
     "name": "stderr",
     "output_type": "stream",
     "text": [
      "Process content...: 100%|██████████| 11998/11998 [01:21<00:00, 147.16it/s]\n"
     ]
    },
    {
     "data": {
      "text/plain": [
       "(5996, 13)"
      ]
     },
     "execution_count": 27,
     "metadata": {},
     "output_type": "execute_result"
    }
   ],
   "source": [
    "vdf = process_csv_data(val_df)\n",
    "vdf.shape"
   ]
  },
  {
   "cell_type": "code",
   "execution_count": 30,
   "metadata": {},
   "outputs": [
    {
     "data": {
      "text/plain": [
       "Index(['company_name', 'website', 'description', 'content', 'about_us_url',\n",
       "       'about_us_content', 'url', 'source', 'language', 'num_words_des',\n",
       "       'num_words_content', 'num_words_des_contained_content'],\n",
       "      dtype='object')"
      ]
     },
     "execution_count": 30,
     "metadata": {},
     "output_type": "execute_result"
    }
   ],
   "source": [
    "test_df.columns"
   ]
  },
  {
   "cell_type": "code",
   "execution_count": null,
   "metadata": {},
   "outputs": [],
   "source": []
  }
 ],
 "metadata": {
  "kernelspec": {
   "display_name": "Python 3",
   "language": "python",
   "name": "python3"
  },
  "language_info": {
   "codemirror_mode": {
    "name": "ipython",
    "version": 3
   },
   "file_extension": ".py",
   "mimetype": "text/x-python",
   "name": "python",
   "nbconvert_exporter": "python",
   "pygments_lexer": "ipython3",
   "version": "3.7.6"
  }
 },
 "nbformat": 4,
 "nbformat_minor": 4
}
